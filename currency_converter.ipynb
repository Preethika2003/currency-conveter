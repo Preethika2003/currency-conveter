{
  "nbformat": 4,
  "nbformat_minor": 0,
  "metadata": {
    "colab": {
      "provenance": [],
      "authorship_tag": "ABX9TyP3UYNMD6lsCSjbd6Nw5VCc",
      "include_colab_link": true
    },
    "kernelspec": {
      "name": "python3",
      "display_name": "Python 3"
    },
    "language_info": {
      "name": "python"
    }
  },
  "cells": [
    {
      "cell_type": "markdown",
      "metadata": {
        "id": "view-in-github",
        "colab_type": "text"
      },
      "source": [
        "<a href=\"https://colab.research.google.com/github/Preethika2003/currency-conveter/blob/main/currency_converter.ipynb\" target=\"_parent\"><img src=\"https://colab.research.google.com/assets/colab-badge.svg\" alt=\"Open In Colab\"/></a>"
      ]
    },
    {
      "cell_type": "code",
      "execution_count": null,
      "metadata": {
        "id": "B2-CAlrd1ozt"
      },
      "outputs": [],
      "source": []
    },
    {
      "cell_type": "code",
      "source": [
        "#currency converter\n",
        "import requests\n",
        "\n",
        "# Function to get exchange rates\n",
        "def get_exchange_rate(base_currency, target_currency):\n",
        "    url = f\"https://api.exchangerate-api.com/v4/latest/{base_currency}\"\n",
        "    response = requests.get(url)\n",
        "\n",
        "    if response.status_code == 200:\n",
        "        data = response.json()\n",
        "        if target_currency in data[\"rates\"]:\n",
        "            return data[\"rates\"][target_currency]\n",
        "        else:\n",
        "            print(\"Invalid target currency!\")\n",
        "            return None\n",
        "    else:\n",
        "        print(\"Error fetching exchange rates.\")\n",
        "        return None\n",
        "\n",
        "# Function to convert currency\n",
        "def convert_currency(amount, base_currency, target_currency):\n",
        "    rate = get_exchange_rate(base_currency, target_currency)\n",
        "    if rate:\n",
        "        converted_amount = amount * rate\n",
        "        return converted_amount\n",
        "    return None\n",
        "\n",
        "# User input\n",
        "amount = float(input(\"Enter amount: \"))\n",
        "base_currency = input(\"Enter base currency (e.g., USD, INR, EUR): \").upper()\n",
        "target_currency = input(\"Enter target currency (e.g., USD, INR, EUR): \").upper()\n",
        "\n",
        "converted_amount = convert_currency(amount, base_currency, target_currency)\n",
        "\n",
        "if converted_amount:\n",
        "    print(f\"{amount} {base_currency} = {converted_amount:.2f} {target_currency}\")\n"
      ],
      "metadata": {
        "colab": {
          "base_uri": "https://localhost:8080/"
        },
        "id": "KonMmOIRXACE",
        "outputId": "6dbf8d6f-6713-4d78-a959-f451601012b4"
      },
      "execution_count": null,
      "outputs": [
        {
          "output_type": "stream",
          "name": "stdout",
          "text": [
            "Enter amount: 500\n",
            "Enter base currency (e.g., USD, INR, EUR): USD\n",
            "Enter target currency (e.g., USD, INR, EUR): INR\n",
            "500.0 USD = 43085.00 INR\n"
          ]
        }
      ]
    }
  ]
}